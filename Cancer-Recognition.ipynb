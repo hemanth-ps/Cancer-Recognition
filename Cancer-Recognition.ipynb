{
  "nbformat": 4,
  "nbformat_minor": 0,
  "metadata": {
    "colab": {
      "name": "Cancer-Recognition.ipynb",
      "provenance": [],
      "collapsed_sections": []
    },
    "kernelspec": {
      "name": "python3",
      "display_name": "Python 3"
    }
  },
  "cells": [
    {
      "cell_type": "code",
      "metadata": {
        "id": "bH_0f-bTP3J8"
      },
      "source": [
        "from zipfile import ZipFile \n",
        "file_name = \"/content/drive/My Drive/DWDM/training_variants.zip\"\n",
        "  \n",
        "with ZipFile(file_name, 'r') as zip: \n",
        "    zip.extractall()"
      ],
      "execution_count": null,
      "outputs": []
    },
    {
      "cell_type": "code",
      "metadata": {
        "id": "m4i3mSkZQTb6"
      },
      "source": [
        "file_name = \"/content/drive/My Drive/DWDM/training_text.zip\"\n",
        "  \n",
        "with ZipFile(file_name, 'r') as zip: \n",
        "    zip.extractall()"
      ],
      "execution_count": null,
      "outputs": []
    },
    {
      "cell_type": "code",
      "metadata": {
        "id": "QoZn-sCScgs8"
      },
      "source": [
        "from google.colab import drive\n",
        "drive.mount('/content/drive')"
      ],
      "execution_count": null,
      "outputs": []
    },
    {
      "cell_type": "code",
      "metadata": {
        "id": "Zv7GXch5Qh77"
      },
      "source": [
        "import pandas as pd\n",
        "import matplotlib.pyplot as plt\n",
        "import re\n",
        "import time\n",
        "import warnings\n",
        "import numpy as np\n",
        "from nltk.corpus import stopwords\n",
        "from sklearn.preprocessing import normalize\n",
        "from sklearn.feature_extraction.text import CountVectorizer\n",
        "import seaborn as sns\n",
        "from sklearn.metrics import confusion_matrix\n",
        "from sklearn.metrics.classification import accuracy_score, log_loss\n",
        "from scipy.sparse import hstack\n",
        "from collections import Counter, defaultdict\n",
        "from sklearn.calibration import CalibratedClassifierCV\n",
        "from sklearn.naive_bayes import MultinomialNB\n",
        "from sklearn.naive_bayes import GaussianNB\n",
        "from sklearn.model_selection import train_test_split\n",
        "from sklearn.model_selection import GridSearchCV\n",
        "import math\n",
        "\n",
        "pd.set_option('display.max_columns', None)\n",
        "pd.set_option('display.max_rows', None)"
      ],
      "execution_count": null,
      "outputs": []
    },
    {
      "cell_type": "code",
      "metadata": {
        "id": "gnbONa9LQ_6v"
      },
      "source": [
        "data = pd.read_csv('training_variants')\n",
        "print('Number of data points : ', data.shape[0])\n",
        "print('Number of features : ', data.shape[1])\n",
        "print('Features : ', data.columns.values)\n",
        "data"
      ],
      "execution_count": null,
      "outputs": []
    },
    {
      "cell_type": "code",
      "metadata": {
        "id": "JG3vEJwpRW5s",
        "colab": {
          "base_uri": "https://localhost:8080/",
          "height": 255
        },
        "outputId": "b1df7f4c-46f7-4f50-f154-6d22a67a8739"
      },
      "source": [
        "data_text =pd.read_csv(\"training_text\",sep=\"\\|\\|\",engine=\"python\",names=[\"ID\",\"TEXT\"],skiprows=1)\n",
        "print('Number of data points : ', data_text.shape[0])\n",
        "print('Number of features : ', data_text.shape[1])\n",
        "print('Features : ', data_text.columns.values)\n",
        "data_text.head()"
      ],
      "execution_count": null,
      "outputs": [
        {
          "output_type": "stream",
          "text": [
            "Number of data points :  3321\n",
            "Number of features :  2\n",
            "Features :  ['ID' 'TEXT']\n"
          ],
          "name": "stdout"
        },
        {
          "output_type": "execute_result",
          "data": {
            "text/html": [
              "<div>\n",
              "<style scoped>\n",
              "    .dataframe tbody tr th:only-of-type {\n",
              "        vertical-align: middle;\n",
              "    }\n",
              "\n",
              "    .dataframe tbody tr th {\n",
              "        vertical-align: top;\n",
              "    }\n",
              "\n",
              "    .dataframe thead th {\n",
              "        text-align: right;\n",
              "    }\n",
              "</style>\n",
              "<table border=\"1\" class=\"dataframe\">\n",
              "  <thead>\n",
              "    <tr style=\"text-align: right;\">\n",
              "      <th></th>\n",
              "      <th>ID</th>\n",
              "      <th>TEXT</th>\n",
              "    </tr>\n",
              "  </thead>\n",
              "  <tbody>\n",
              "    <tr>\n",
              "      <th>0</th>\n",
              "      <td>0</td>\n",
              "      <td>Cyclin-dependent kinases (CDKs) regulate a var...</td>\n",
              "    </tr>\n",
              "    <tr>\n",
              "      <th>1</th>\n",
              "      <td>1</td>\n",
              "      <td>Abstract Background  Non-small cell lung canc...</td>\n",
              "    </tr>\n",
              "    <tr>\n",
              "      <th>2</th>\n",
              "      <td>2</td>\n",
              "      <td>Abstract Background  Non-small cell lung canc...</td>\n",
              "    </tr>\n",
              "    <tr>\n",
              "      <th>3</th>\n",
              "      <td>3</td>\n",
              "      <td>Recent evidence has demonstrated that acquired...</td>\n",
              "    </tr>\n",
              "    <tr>\n",
              "      <th>4</th>\n",
              "      <td>4</td>\n",
              "      <td>Oncogenic mutations in the monomeric Casitas B...</td>\n",
              "    </tr>\n",
              "  </tbody>\n",
              "</table>\n",
              "</div>"
            ],
            "text/plain": [
              "   ID                                               TEXT\n",
              "0   0  Cyclin-dependent kinases (CDKs) regulate a var...\n",
              "1   1   Abstract Background  Non-small cell lung canc...\n",
              "2   2   Abstract Background  Non-small cell lung canc...\n",
              "3   3  Recent evidence has demonstrated that acquired...\n",
              "4   4  Oncogenic mutations in the monomeric Casitas B..."
            ]
          },
          "metadata": {
            "tags": []
          },
          "execution_count": 95
        }
      ]
    },
    {
      "cell_type": "code",
      "metadata": {
        "id": "K2sE0fcHSU1P"
      },
      "source": [
        "from nltk.corpus import stopwords"
      ],
      "execution_count": null,
      "outputs": []
    },
    {
      "cell_type": "code",
      "metadata": {
        "id": "_Gg0AljISrOp",
        "colab": {
          "base_uri": "https://localhost:8080/"
        },
        "outputId": "cdeba6d8-cb1f-41ff-f3d8-418a8b806257"
      },
      "source": [
        "import nltk\n",
        "nltk.download('stopwords')"
      ],
      "execution_count": null,
      "outputs": [
        {
          "output_type": "stream",
          "text": [
            "[nltk_data] Downloading package stopwords to /root/nltk_data...\n",
            "[nltk_data]   Package stopwords is already up-to-date!\n"
          ],
          "name": "stdout"
        },
        {
          "output_type": "execute_result",
          "data": {
            "text/plain": [
              "True"
            ]
          },
          "metadata": {
            "tags": []
          },
          "execution_count": 97
        }
      ]
    },
    {
      "cell_type": "markdown",
      "metadata": {
        "id": "SD0wQP-JV4Ls"
      },
      "source": [
        "#### Text Preprocessing"
      ]
    },
    {
      "cell_type": "code",
      "metadata": {
        "id": "SOWcYjKXRdbv"
      },
      "source": [
        "stop_words = set(stopwords.words('english'))\n",
        "\n",
        "\n",
        "def nlp_preprocessing(total_text, index, column):\n",
        "    if type(total_text) is not int:\n",
        "        string = \"\"\n",
        "        total_text = re.sub('[^a-zA-Z0-9\\n]', ' ', total_text)\n",
        "        total_text = re.sub('\\s+',' ', total_text)\n",
        "        total_text = total_text.lower()\n",
        "        \n",
        "        for word in total_text.split():\n",
        "            if not word in stop_words:\n",
        "                string += word + \" \"\n",
        "        \n",
        "        data_text[column][index] = string"
      ],
      "execution_count": null,
      "outputs": []
    },
    {
      "cell_type": "code",
      "metadata": {
        "id": "P0Cl3M5uS_ze",
        "colab": {
          "base_uri": "https://localhost:8080/"
        },
        "outputId": "2abe5c32-9371-4b91-8b51-24a18741d527"
      },
      "source": [
        "for index, row in data_text.iterrows():\n",
        "    if type(row['TEXT']) is str:\n",
        "        nlp_preprocessing(row['TEXT'], index, 'TEXT')\n",
        "    else:\n",
        "        print(\"there is no text description for id:\",index)"
      ],
      "execution_count": null,
      "outputs": [
        {
          "output_type": "stream",
          "text": [
            "there is no text description for id: 1109\n",
            "there is no text description for id: 1277\n",
            "there is no text description for id: 1407\n",
            "there is no text description for id: 1639\n",
            "there is no text description for id: 2755\n"
          ],
          "name": "stdout"
        }
      ]
    },
    {
      "cell_type": "code",
      "metadata": {
        "id": "gUhq1c3ZVXUt",
        "colab": {
          "base_uri": "https://localhost:8080/",
          "height": 204
        },
        "outputId": "9f443231-dda7-46af-eec4-fd8fa5f30da2"
      },
      "source": [
        "result = pd.merge(data, data_text,on='ID', how='left')\n",
        "result.head()"
      ],
      "execution_count": null,
      "outputs": [
        {
          "output_type": "execute_result",
          "data": {
            "text/html": [
              "<div>\n",
              "<style scoped>\n",
              "    .dataframe tbody tr th:only-of-type {\n",
              "        vertical-align: middle;\n",
              "    }\n",
              "\n",
              "    .dataframe tbody tr th {\n",
              "        vertical-align: top;\n",
              "    }\n",
              "\n",
              "    .dataframe thead th {\n",
              "        text-align: right;\n",
              "    }\n",
              "</style>\n",
              "<table border=\"1\" class=\"dataframe\">\n",
              "  <thead>\n",
              "    <tr style=\"text-align: right;\">\n",
              "      <th></th>\n",
              "      <th>ID</th>\n",
              "      <th>Gene</th>\n",
              "      <th>Variation</th>\n",
              "      <th>Class</th>\n",
              "      <th>TEXT</th>\n",
              "    </tr>\n",
              "  </thead>\n",
              "  <tbody>\n",
              "    <tr>\n",
              "      <th>0</th>\n",
              "      <td>0</td>\n",
              "      <td>FAM58A</td>\n",
              "      <td>Truncating Mutations</td>\n",
              "      <td>1</td>\n",
              "      <td>cyclin dependent kinases cdks regulate variety...</td>\n",
              "    </tr>\n",
              "    <tr>\n",
              "      <th>1</th>\n",
              "      <td>1</td>\n",
              "      <td>CBL</td>\n",
              "      <td>W802*</td>\n",
              "      <td>2</td>\n",
              "      <td>abstract background non small cell lung cancer...</td>\n",
              "    </tr>\n",
              "    <tr>\n",
              "      <th>2</th>\n",
              "      <td>2</td>\n",
              "      <td>CBL</td>\n",
              "      <td>Q249E</td>\n",
              "      <td>2</td>\n",
              "      <td>abstract background non small cell lung cancer...</td>\n",
              "    </tr>\n",
              "    <tr>\n",
              "      <th>3</th>\n",
              "      <td>3</td>\n",
              "      <td>CBL</td>\n",
              "      <td>N454D</td>\n",
              "      <td>3</td>\n",
              "      <td>recent evidence demonstrated acquired uniparen...</td>\n",
              "    </tr>\n",
              "    <tr>\n",
              "      <th>4</th>\n",
              "      <td>4</td>\n",
              "      <td>CBL</td>\n",
              "      <td>L399V</td>\n",
              "      <td>4</td>\n",
              "      <td>oncogenic mutations monomeric casitas b lineag...</td>\n",
              "    </tr>\n",
              "  </tbody>\n",
              "</table>\n",
              "</div>"
            ],
            "text/plain": [
              "   ID    Gene             Variation  Class  \\\n",
              "0   0  FAM58A  Truncating Mutations      1   \n",
              "1   1     CBL                 W802*      2   \n",
              "2   2     CBL                 Q249E      2   \n",
              "3   3     CBL                 N454D      3   \n",
              "4   4     CBL                 L399V      4   \n",
              "\n",
              "                                                TEXT  \n",
              "0  cyclin dependent kinases cdks regulate variety...  \n",
              "1  abstract background non small cell lung cancer...  \n",
              "2  abstract background non small cell lung cancer...  \n",
              "3  recent evidence demonstrated acquired uniparen...  \n",
              "4  oncogenic mutations monomeric casitas b lineag...  "
            ]
          },
          "metadata": {
            "tags": []
          },
          "execution_count": 100
        }
      ]
    },
    {
      "cell_type": "code",
      "metadata": {
        "id": "M8EGXIItVgrJ",
        "colab": {
          "base_uri": "https://localhost:8080/",
          "height": 204
        },
        "outputId": "be46ffdf-9770-45b2-c3a0-12170b3bcb0a"
      },
      "source": [
        "result[result.isnull().any(axis=1)]"
      ],
      "execution_count": null,
      "outputs": [
        {
          "output_type": "execute_result",
          "data": {
            "text/html": [
              "<div>\n",
              "<style scoped>\n",
              "    .dataframe tbody tr th:only-of-type {\n",
              "        vertical-align: middle;\n",
              "    }\n",
              "\n",
              "    .dataframe tbody tr th {\n",
              "        vertical-align: top;\n",
              "    }\n",
              "\n",
              "    .dataframe thead th {\n",
              "        text-align: right;\n",
              "    }\n",
              "</style>\n",
              "<table border=\"1\" class=\"dataframe\">\n",
              "  <thead>\n",
              "    <tr style=\"text-align: right;\">\n",
              "      <th></th>\n",
              "      <th>ID</th>\n",
              "      <th>Gene</th>\n",
              "      <th>Variation</th>\n",
              "      <th>Class</th>\n",
              "      <th>TEXT</th>\n",
              "    </tr>\n",
              "  </thead>\n",
              "  <tbody>\n",
              "    <tr>\n",
              "      <th>1109</th>\n",
              "      <td>1109</td>\n",
              "      <td>FANCA</td>\n",
              "      <td>S1088F</td>\n",
              "      <td>1</td>\n",
              "      <td>NaN</td>\n",
              "    </tr>\n",
              "    <tr>\n",
              "      <th>1277</th>\n",
              "      <td>1277</td>\n",
              "      <td>ARID5B</td>\n",
              "      <td>Truncating Mutations</td>\n",
              "      <td>1</td>\n",
              "      <td>NaN</td>\n",
              "    </tr>\n",
              "    <tr>\n",
              "      <th>1407</th>\n",
              "      <td>1407</td>\n",
              "      <td>FGFR3</td>\n",
              "      <td>K508M</td>\n",
              "      <td>6</td>\n",
              "      <td>NaN</td>\n",
              "    </tr>\n",
              "    <tr>\n",
              "      <th>1639</th>\n",
              "      <td>1639</td>\n",
              "      <td>FLT1</td>\n",
              "      <td>Amplification</td>\n",
              "      <td>6</td>\n",
              "      <td>NaN</td>\n",
              "    </tr>\n",
              "    <tr>\n",
              "      <th>2755</th>\n",
              "      <td>2755</td>\n",
              "      <td>BRAF</td>\n",
              "      <td>G596C</td>\n",
              "      <td>7</td>\n",
              "      <td>NaN</td>\n",
              "    </tr>\n",
              "  </tbody>\n",
              "</table>\n",
              "</div>"
            ],
            "text/plain": [
              "        ID    Gene             Variation  Class TEXT\n",
              "1109  1109   FANCA                S1088F      1  NaN\n",
              "1277  1277  ARID5B  Truncating Mutations      1  NaN\n",
              "1407  1407   FGFR3                 K508M      6  NaN\n",
              "1639  1639    FLT1         Amplification      6  NaN\n",
              "2755  2755    BRAF                 G596C      7  NaN"
            ]
          },
          "metadata": {
            "tags": []
          },
          "execution_count": 101
        }
      ]
    },
    {
      "cell_type": "code",
      "metadata": {
        "id": "gXJQTWV7WXiv"
      },
      "source": [
        "result.loc[result['TEXT'].isnull(),'TEXT'] = result['Gene'] +' '+result['Variation']"
      ],
      "execution_count": null,
      "outputs": []
    },
    {
      "cell_type": "code",
      "metadata": {
        "id": "_kXOu2M2XMKq"
      },
      "source": [
        "y_true = result['Class'].values\n",
        "result.Gene      = result.Gene.str.replace('\\s+', '_')\n",
        "result.Variation = result.Variation.str.replace('\\s+', '_')\n",
        "\n",
        "X_train, test_df, y_train, y_test = train_test_split(result, y_true, stratify=y_true, test_size=0.2)\n",
        "train_df, cv_df, y_train, y_cv = train_test_split(X_train, y_train, stratify=y_train, test_size=0.2)"
      ],
      "execution_count": null,
      "outputs": []
    },
    {
      "cell_type": "code",
      "metadata": {
        "id": "epSceCqGX44n",
        "colab": {
          "base_uri": "https://localhost:8080/",
          "height": 1000
        },
        "outputId": "de0c2f30-068e-4d70-b555-bc0a3bc1c3a1"
      },
      "source": [
        "train_class_distribution = train_df['Class'].value_counts().sort_index()\n",
        "test_class_distribution = test_df['Class'].value_counts().sort_index()\n",
        "cv_class_distribution = cv_df['Class'].value_counts().sort_index()\n",
        "\n",
        "my_colors = 'rgbkymc'\n",
        "train_class_distribution.plot(kind='bar')\n",
        "plt.xlabel('Class')\n",
        "plt.ylabel('Data points per Class')\n",
        "plt.title('Distribution of yi in train data')\n",
        "plt.grid()\n",
        "plt.show()\n",
        "sorted_yi = np.argsort(-train_class_distribution.values)\n",
        "for i in sorted_yi:\n",
        "    print('Number of data points in class', i+1, ':',train_class_distribution.values[i],\n",
        "          '(', np.round((train_class_distribution.values[i]/train_df.shape[0]*100), 3), '%)')\n",
        "\n",
        "print()  \n",
        "print('--*--'*20)\n",
        "print() \n",
        "my_colors = 'rgbkymc'\n",
        "test_class_distribution.plot(kind='bar')\n",
        "plt.xlabel('Class')\n",
        "plt.ylabel('Data points per Class')\n",
        "plt.title('Distribution of yi in test data')\n",
        "plt.grid()\n",
        "plt.show()\n",
        "\n",
        "sorted_yi = np.argsort(-test_class_distribution.values)\n",
        "for i in sorted_yi:\n",
        "    print('Number of data points in class', i+1, ':',test_class_distribution.values[i],\n",
        "          '(', np.round((test_class_distribution.values[i]/test_df.shape[0]*100), 3), '%)')\n",
        "print() \n",
        "print('--*--'*20)\n",
        "print() \n",
        "\n",
        "my_colors = 'rgbkymc'\n",
        "cv_class_distribution.plot(kind='bar')\n",
        "plt.xlabel('Class')\n",
        "plt.ylabel('Data points per Class')\n",
        "plt.title('Distribution of yi in cross validation data')\n",
        "plt.grid()\n",
        "plt.show()\n",
        "\n",
        "sorted_yi = np.argsort(-train_class_distribution.values)\n",
        "for i in sorted_yi:\n",
        "    print('Number of data points in class', i+1, ':',cv_class_distribution.values[i], '(', np.round((cv_class_distribution.values[i]/cv_df.shape[0]*100), 3), '%)')\n"
      ],
      "execution_count": null,
      "outputs": [
        {
          "output_type": "display_data",
          "data": {
            "image/png": "[encoded data removed]",
            "text/plain": [
              "<Figure size 432x288 with 1 Axes>"
            ]
          },
          "metadata": {
            "tags": [],
            "needs_background": "light"
          }
        },
        {
          "output_type": "stream",
          "text": [
            "Number of data points in class 7 : 609 ( 28.672 %)\n",
            "Number of data points in class 4 : 439 ( 20.669 %)\n",
            "Number of data points in class 1 : 363 ( 17.09 %)\n",
            "Number of data points in class 2 : 289 ( 13.606 %)\n",
            "Number of data points in class 6 : 176 ( 8.286 %)\n",
            "Number of data points in class 5 : 155 ( 7.298 %)\n",
            "Number of data points in class 3 : 57 ( 2.684 %)\n",
            "Number of data points in class 9 : 24 ( 1.13 %)\n",
            "Number of data points in class 8 : 12 ( 0.565 %)\n",
            "\n",
            "--*----*----*----*----*----*----*----*----*----*----*----*----*----*----*----*----*----*----*----*--\n",
            "\n"
          ],
          "name": "stdout"
        },
        {
          "output_type": "display_data",
          "data": {
            "image/png": "[encoded data removed]",
            "text/plain": [
              "<Figure size 432x288 with 1 Axes>"
            ]
          },
          "metadata": {
            "tags": [],
            "needs_background": "light"
          }
        },
        {
          "output_type": "stream",
          "text": [
            "Number of data points in class 7 : 191 ( 28.722 %)\n",
            "Number of data points in class 4 : 137 ( 20.602 %)\n",
            "Number of data points in class 1 : 114 ( 17.143 %)\n",
            "Number of data points in class 2 : 91 ( 13.684 %)\n",
            "Number of data points in class 6 : 55 ( 8.271 %)\n",
            "Number of data points in class 5 : 48 ( 7.218 %)\n",
            "Number of data points in class 3 : 18 ( 2.707 %)\n",
            "Number of data points in class 9 : 7 ( 1.053 %)\n",
            "Number of data points in class 8 : 4 ( 0.602 %)\n",
            "\n",
            "--*----*----*----*----*----*----*----*----*----*----*----*----*----*----*----*----*----*----*----*--\n",
            "\n"
          ],
          "name": "stdout"
        },
        {
          "output_type": "display_data",
          "data": {
            "image/png": "[encoded data removed]",
            "text/plain": [
              "<Figure size 432x288 with 1 Axes>"
            ]
          },
          "metadata": {
            "tags": [],
            "needs_background": "light"
          }
        },
        {
          "output_type": "stream",
          "text": [
            "Number of data points in class 7 : 153 ( 28.759 %)\n",
            "Number of data points in class 4 : 110 ( 20.677 %)\n",
            "Number of data points in class 1 : 91 ( 17.105 %)\n",
            "Number of data points in class 2 : 72 ( 13.534 %)\n",
            "Number of data points in class 6 : 44 ( 8.271 %)\n",
            "Number of data points in class 5 : 39 ( 7.331 %)\n",
            "Number of data points in class 3 : 14 ( 2.632 %)\n",
            "Number of data points in class 9 : 6 ( 1.128 %)\n",
            "Number of data points in class 8 : 3 ( 0.564 %)\n"
          ],
          "name": "stdout"
        }
      ]
    },
    {
      "cell_type": "code",
      "metadata": {
        "id": "eI_MINzSdOqU"
      },
      "source": [
        "def get_gv_fea_dict(alpha, feature, df):\n",
        "    value_count = train_df[feature].value_counts()\n",
        "    gv_dict = dict()\n",
        "    for i, denominator in value_count.items():\n",
        "        vec = []\n",
        "        for k in range(1,10):\n",
        "            cls_cnt = train_df.loc[(train_df['Class']==k) & (train_df[feature]==i)]\n",
        "            vec.append((cls_cnt.shape[0] + alpha*10)/ (denominator + 90*alpha))\n",
        "        gv_dict[i]=vec\n",
        "    return gv_dict\n",
        "def get_gv_feature(alpha, feature, df):\n",
        "    gv_dict = get_gv_fea_dict(alpha, feature, df)\n",
        "    value_count = train_df[feature].value_counts()\n",
        "    gv_fea = []\n",
        "    for index, row in df.iterrows():\n",
        "        if row[feature] in dict(value_count).keys():\n",
        "            gv_fea.append(gv_dict[row[feature]])\n",
        "        else:\n",
        "            gv_fea.append([1/9,1/9,1/9,1/9,1/9,1/9,1/9,1/9,1/9])\n",
        "    return gv_fea"
      ],
      "execution_count": null,
      "outputs": []
    },
    {
      "cell_type": "code",
      "metadata": {
        "id": "q7rgbQTpgydl"
      },
      "source": [
        "alpha = 1\n",
        "train_gene_feature_responseCoding = np.array(get_gv_feature(alpha, \"Gene\", train_df))\n",
        "test_gene_feature_responseCoding = np.array(get_gv_feature(alpha, \"Gene\", test_df))\n",
        "cv_gene_feature_responseCoding = np.array(get_gv_feature(alpha, \"Gene\", cv_df))"
      ],
      "execution_count": null,
      "outputs": []
    },
    {
      "cell_type": "code",
      "metadata": {
        "id": "MYx4kFUXJxI8"
      },
      "source": [
        "alpha = 1\n",
        "train_variation_feature_responseCoding = np.array(get_gv_feature(alpha, \"Variation\", train_df))\n",
        "test_variation_feature_responseCoding = np.array(get_gv_feature(alpha, \"Variation\", test_df))\n",
        "cv_variation_feature_responseCoding = np.array(get_gv_feature(alpha, \"Variation\", cv_df))"
      ],
      "execution_count": null,
      "outputs": []
    },
    {
      "cell_type": "markdown",
      "metadata": {
        "id": "4f9bwhHUr89k"
      },
      "source": [
        "#### Response Coding for Text Feature"
      ]
    },
    {
      "cell_type": "code",
      "metadata": {
        "id": "RMPaRWPgRFWw"
      },
      "source": [
        "def extract_dictionary_paddle(cls_text):\n",
        "    dictionary = defaultdict(int)\n",
        "    for index, row in cls_text.iterrows():\n",
        "        for word in row['TEXT'].split():\n",
        "            dictionary[word] +=1\n",
        "    return dictionary"
      ],
      "execution_count": null,
      "outputs": []
    },
    {
      "cell_type": "code",
      "metadata": {
        "id": "TLc9VkZNRPoQ"
      },
      "source": [
        "dict_list = []\n",
        "for i in range(1,10):\n",
        "    cls_text = train_df[train_df['Class']==i]\n",
        "    dict_list.append(extract_dictionary_paddle(cls_text))\n",
        "total_dict = extract_dictionary_paddle(train_df)\n",
        "\n"
      ],
      "execution_count": null,
      "outputs": []
    },
    {
      "cell_type": "code",
      "metadata": {
        "id": "Ksa7YUocNx1A"
      },
      "source": [
        "import math\n",
        "def get_text_responsecoding(df):\n",
        "    text_feature_responseCoding = np.zeros((df.shape[0],9))\n",
        "    for i in range(0,9):\n",
        "        row_index = 0\n",
        "        for index, row in df.iterrows():\n",
        "            sum_prob = 0\n",
        "            for word in row['TEXT'].split():\n",
        "                sum_prob += math.log(((dict_list[i].get(word,0)+10 )/(total_dict.get(word,0)+90)))\n",
        "            text_feature_responseCoding[row_index][i] = math.exp(sum_prob/len(row['TEXT'].split()))\n",
        "            row_index += 1\n",
        "    return text_feature_responseCoding"
      ],
      "execution_count": null,
      "outputs": []
    },
    {
      "cell_type": "code",
      "metadata": {
        "id": "LdDjZRFZN4FQ"
      },
      "source": [
        "train_text_feature_responseCoding  = get_text_responsecoding(train_df)\n",
        "test_text_feature_responseCoding  = get_text_responsecoding(test_df)\n",
        "cv_text_feature_responseCoding  = get_text_responsecoding(cv_df)"
      ],
      "execution_count": null,
      "outputs": []
    },
    {
      "cell_type": "code",
      "metadata": {
        "id": "NaDgPhzzaMks"
      },
      "source": [
        ""
      ],
      "execution_count": null,
      "outputs": []
    },
    {
      "cell_type": "code",
      "metadata": {
        "id": "wKHtI42WUvpN",
        "colab": {
          "base_uri": "https://localhost:8080/"
        },
        "outputId": "54064742-0a3c-4c80-cc80-552fb361f3a3"
      },
      "source": [
        "train_text_feature_responseCoding"
      ],
      "execution_count": null,
      "outputs": [
        {
          "output_type": "execute_result",
          "data": {
            "text/plain": [
              "array([[0.12863751, 0.11364471, 0.01929872, ..., 0.34156027, 0.00966201,\n",
              "        0.01846057],\n",
              "       [0.12974958, 0.10126824, 0.02122452, ..., 0.25034272, 0.01781628,\n",
              "        0.03810406],\n",
              "       [0.11390033, 0.12230434, 0.02945135, ..., 0.341814  , 0.00882387,\n",
              "        0.01565133],\n",
              "       ...,\n",
              "       [0.16815134, 0.08771762, 0.02239398, ..., 0.18520114, 0.00785443,\n",
              "        0.01570867],\n",
              "       [0.16199664, 0.11021549, 0.02045137, ..., 0.23698896, 0.0101753 ,\n",
              "        0.01922278],\n",
              "       [0.10042788, 0.10923268, 0.02109363, ..., 0.28981916, 0.00872282,\n",
              "        0.01660373]])"
            ]
          },
          "metadata": {
            "tags": []
          },
          "execution_count": 115
        }
      ]
    },
    {
      "cell_type": "code",
      "metadata": {
        "id": "7cKhNXScUrKv"
      },
      "source": [
        "train_text_feature_responseCoding = (train_text_feature_responseCoding.T/train_text_feature_responseCoding.sum(axis=1)).T\n",
        "test_text_feature_responseCoding = (test_text_feature_responseCoding.T/test_text_feature_responseCoding.sum(axis=1)).T\n",
        "cv_text_feature_responseCoding = (cv_text_feature_responseCoding.T/cv_text_feature_responseCoding.sum(axis=1)).T"
      ],
      "execution_count": null,
      "outputs": []
    },
    {
      "cell_type": "code",
      "metadata": {
        "id": "Iu46X9X1U00W",
        "colab": {
          "base_uri": "https://localhost:8080/"
        },
        "outputId": "4bd46872-1ddf-4f3c-e052-e15b282da6d0"
      },
      "source": [
        "train_text_feature_responseCoding"
      ],
      "execution_count": null,
      "outputs": [
        {
          "output_type": "execute_result",
          "data": {
            "text/plain": [
              "array([[0.14573309, 0.12874779, 0.02186347, ..., 0.38695272, 0.01094606,\n",
              "        0.02091393],\n",
              "       [0.15809992, 0.1233954 , 0.02586209, ..., 0.30504271, 0.02170914,\n",
              "        0.04642981],\n",
              "       [0.13087622, 0.14053277, 0.03384083, ..., 0.39275849, 0.01013899,\n",
              "        0.01798403],\n",
              "       ...,\n",
              "       [0.20102227, 0.10486503, 0.02677165, ..., 0.22140504, 0.00938985,\n",
              "        0.01877946],\n",
              "       [0.18623384, 0.12670543, 0.02351121, ..., 0.27244616, 0.01169768,\n",
              "        0.0220988 ],\n",
              "       [0.1228447 , 0.13361485, 0.025802  , ..., 0.35451061, 0.01066987,\n",
              "        0.02030991]])"
            ]
          },
          "metadata": {
            "tags": []
          },
          "execution_count": 117
        }
      ]
    },
    {
      "cell_type": "markdown",
      "metadata": {
        "id": "kwpALZyaNwQh"
      },
      "source": [
        ""
      ]
    },
    {
      "cell_type": "code",
      "metadata": {
        "id": "TZZz_ZTAj0Fo"
      },
      "source": [
        "train_gene_var_responseCoding = np.hstack((train_gene_feature_responseCoding,train_variation_feature_responseCoding))\n",
        "test_gene_var_responseCoding = np.hstack((test_gene_feature_responseCoding,test_variation_feature_responseCoding))\n",
        "cv_gene_var_responseCoding = np.hstack((cv_gene_feature_responseCoding,cv_variation_feature_responseCoding))\n",
        "\n",
        "train_x_responseCoding = np.hstack((train_gene_var_responseCoding, train_text_feature_responseCoding))\n",
        "test_x_responseCoding = np.hstack((test_gene_var_responseCoding, test_text_feature_responseCoding))\n",
        "cv_x_responseCoding = np.hstack((cv_gene_var_responseCoding, cv_text_feature_responseCoding))"
      ],
      "execution_count": null,
      "outputs": []
    },
    {
      "cell_type": "code",
      "metadata": {
        "id": "z82RLAYGau50",
        "colab": {
          "base_uri": "https://localhost:8080/"
        },
        "outputId": "b647fe83-573e-4de6-e847-7a4c2d249f13"
      },
      "source": [
        "print(\" Response encoding features :\")\n",
        "print(\"(number of data points * number of features) in train data = \", train_x_responseCoding.shape)\n",
        "print(\"(number of data points * number of features) in test data = \", test_x_responseCoding.shape)\n",
        "print(\"(number of data points * number of features) in cross validation data =\", cv_x_responseCoding.shape)"
      ],
      "execution_count": null,
      "outputs": [
        {
          "output_type": "stream",
          "text": [
            " Response encoding features :\n",
            "(number of data points * number of features) in train data =  (2124, 27)\n",
            "(number of data points * number of features) in test data =  (665, 27)\n",
            "(number of data points * number of features) in cross validation data = (532, 27)\n"
          ],
          "name": "stdout"
        }
      ]
    },
    {
      "cell_type": "code",
      "metadata": {
        "id": "ufFAy0QhYiJI"
      },
      "source": [
        "train_y = np.array(list(train_df['Class']))\n",
        "test_y = np.array(list(test_df['Class']))\n",
        "cv_y = np.array(list(cv_df['Class']))"
      ],
      "execution_count": null,
      "outputs": []
    },
    {
      "cell_type": "code",
      "metadata": {
        "id": "g64EtpdPkO5i",
        "colab": {
          "base_uri": "https://localhost:8080/",
          "height": 618
        },
        "outputId": "e4fa7ef3-dd52-4864-dad0-e47d1abd1871"
      },
      "source": [
        "alpha = [0.00001, 0.0001, 0.001, 0.1, 1, 10, 100,1000]\n",
        "cv_log_error_array = []\n",
        "for i in alpha:\n",
        "    print(\"for alpha =\", i)\n",
        "    clf = MultinomialNB(alpha=i)\n",
        "    clf.fit(train_x_responseCoding, train_y)\n",
        "    sig_clf = CalibratedClassifierCV(clf, method=\"sigmoid\")\n",
        "    sig_clf.fit(train_x_responseCoding, train_y)\n",
        "    sig_clf_probs = sig_clf.predict_proba(cv_x_responseCoding)\n",
        "    cv_log_error_array.append(log_loss(cv_y, sig_clf_probs, labels=clf.classes_, eps=1e-15))\n",
        "    print(\"Log Loss :\",log_loss(cv_y, sig_clf_probs)) \n",
        "\n",
        "fig, ax = plt.subplots()\n",
        "ax.plot(np.log10(alpha), cv_log_error_array,c='g')\n",
        "for i, txt in enumerate(np.round(cv_log_error_array,3)):\n",
        "    ax.annotate((alpha[i],str(txt)), (np.log10(alpha[i]),cv_log_error_array[i]))\n",
        "plt.grid()\n",
        "plt.xticks(np.log10(alpha))\n",
        "plt.title(\"Cross Validation Error for each alpha\")\n",
        "plt.xlabel(\"Alpha i's\")\n",
        "plt.ylabel(\"Error measure\")\n",
        "plt.show()\n",
        "\n",
        "\n",
        "best_alpha = np.argmin(cv_log_error_array)\n",
        "clf = MultinomialNB(alpha=alpha[best_alpha])\n",
        "clf.fit(train_x_responseCoding, train_y)\n",
        "sig_clf = CalibratedClassifierCV(clf, method=\"sigmoid\")\n",
        "sig_clf.fit(train_x_responseCoding, train_y)\n",
        "\n",
        "\n",
        "predict_y = sig_clf.predict_proba(train_x_responseCoding)\n",
        "print('For values of best alpha = ', alpha[best_alpha], \"The train log loss is:\",log_loss(y_train, predict_y, labels=clf.classes_, eps=1e-15))\n",
        "predict_y = sig_clf.predict_proba(cv_x_responseCoding)\n",
        "print('For values of best alpha = ', alpha[best_alpha], \"The cross validation log loss is:\",log_loss(y_cv, predict_y, labels=clf.classes_, eps=1e-15))\n",
        "predict_y = sig_clf.predict_proba(test_x_responseCoding)\n",
        "print('For values of best alpha = ', alpha[best_alpha], \"The test log loss is:\",log_loss(y_test, predict_y, labels=clf.classes_, eps=1e-15))\n"
      ],
      "execution_count": null,
      "outputs": [
        {
          "output_type": "stream",
          "text": [
            "for alpha = 1e-05\n",
            "Log Loss : 1.2822483972819545\n",
            "for alpha = 0.0001\n",
            "Log Loss : 1.2822486181728139\n",
            "for alpha = 0.001\n",
            "Log Loss : 1.2822508627856686\n",
            "for alpha = 0.1\n",
            "Log Loss : 1.2826199380174372\n",
            "for alpha = 1\n",
            "Log Loss : 1.2870572732271683\n",
            "for alpha = 10\n",
            "Log Loss : 1.312624427921219\n",
            "for alpha = 100\n",
            "Log Loss : 1.3217556861970081\n",
            "for alpha = 1000\n",
            "Log Loss : 1.320157750914406\n"
          ],
          "name": "stdout"
        },
        {
          "output_type": "display_data",
          "data": {
            "image/png": "[encoded data removed]",
            "text/plain": [
              "<Figure size 432x288 with 1 Axes>"
            ]
          },
          "metadata": {
            "tags": [],
            "needs_background": "light"
          }
        },
        {
          "output_type": "stream",
          "text": [
            "For values of best alpha =  1e-05 The train log loss is: 1.19837627080281\n",
            "For values of best alpha =  1e-05 The cross validation log loss is: 1.2822483972819545\n",
            "For values of best alpha =  1e-05 The test log loss is: 1.2621002890922517\n"
          ],
          "name": "stdout"
        }
      ]
    }
  ]
}